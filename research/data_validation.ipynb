{
 "cells": [
  {
   "cell_type": "code",
   "execution_count": 8,
   "id": "71eb15a3-ce85-4789-827f-ed1e63cde79d",
   "metadata": {},
   "outputs": [],
   "source": [
    "import os"
   ]
  },
  {
   "cell_type": "code",
   "execution_count": 9,
   "id": "93568bd2-119f-447a-8767-195c7c72a2ab",
   "metadata": {},
   "outputs": [
    {
     "data": {
      "text/plain": [
       "'/Users/rupeshyadav/Documents/MLFLOW/End-To-End-MLOPs-Credit_Card_Fraud_Detection/research'"
      ]
     },
     "execution_count": 9,
     "metadata": {},
     "output_type": "execute_result"
    }
   ],
   "source": [
    "%pwd"
   ]
  },
  {
   "cell_type": "code",
   "execution_count": 10,
   "id": "a2dca553-8210-44cc-b9e1-9852c0f57912",
   "metadata": {},
   "outputs": [],
   "source": [
    "os.chdir(\"../\")"
   ]
  },
  {
   "cell_type": "code",
   "execution_count": 11,
   "id": "4e9cca6c-4808-4ff0-9781-6b91157b3169",
   "metadata": {},
   "outputs": [
    {
     "data": {
      "text/plain": [
       "'/Users/rupeshyadav/Documents/MLFLOW/End-To-End-MLOPs-Credit_Card_Fraud_Detection'"
      ]
     },
     "execution_count": 11,
     "metadata": {},
     "output_type": "execute_result"
    }
   ],
   "source": [
    "%pwd"
   ]
  },
  {
   "cell_type": "markdown",
   "id": "8834cd30-d6a0-4fd4-b54b-1fee5fb4ebe9",
   "metadata": {},
   "source": [
    "Entity Definition"
   ]
  },
  {
   "cell_type": "code",
   "execution_count": 12,
   "id": "439af181-be74-4489-b2eb-652bab50fecb",
   "metadata": {},
   "outputs": [],
   "source": [
    "from dataclasses import dataclass\n",
    "from pathlib import Path\n",
    "\n",
    "\n",
    "@dataclass(frozen=True)\n",
    "class DataValidationConfig:\n",
    "    root_dir: Path\n",
    "    STATUS_FILE: str\n",
    "    unzip_data_dir: Path\n",
    "    all_schema: dict"
   ]
  },
  {
   "cell_type": "markdown",
   "id": "ca723e9d-018a-4b62-89ea-c72b5c315e58",
   "metadata": {},
   "source": [
    "Configuration Manager"
   ]
  },
  {
   "cell_type": "code",
   "execution_count": 13,
   "id": "2c04b6d1-b0eb-4f33-8a0d-be682f6ae51c",
   "metadata": {},
   "outputs": [],
   "source": [
    "from Credit_Card_Fraud_Detection.constants import *\n",
    "from Credit_Card_Fraud_Detection.utils.common import read_yaml, create_directories"
   ]
  },
  {
   "cell_type": "code",
   "execution_count": 14,
   "id": "6d5d07db-8f41-46a3-a4c7-21e95f22c8bb",
   "metadata": {},
   "outputs": [],
   "source": [
    "class ConfigurationManager:\n",
    "    def __init__(\n",
    "        self,\n",
    "        config_filepath = CONFIG_FILE_PATH,\n",
    "        params_filepath = PARAMS_FILE_PATH,\n",
    "        schema_filepath = SCHEMA_FILE_PATH):\n",
    "\n",
    "        self.config = read_yaml(config_filepath)\n",
    "        self.params = read_yaml(params_filepath)\n",
    "        self.schema = read_yaml(schema_filepath)\n",
    "\n",
    "        create_directories([self.config.artifacts_root])\n",
    "\n",
    "\n",
    "    \n",
    "    def get_data_validation_config(self) -> DataValidationConfig:\n",
    "        config = self.config.data_validation\n",
    "        schema = self.schema.COLUMNS\n",
    "\n",
    "        create_directories([config.root_dir])\n",
    "\n",
    "        data_validation_config = DataValidationConfig(\n",
    "            root_dir=config.root_dir,\n",
    "            STATUS_FILE=config.STATUS_FILE,\n",
    "            unzip_data_dir = config.unzip_data_dir,\n",
    "            all_schema=schema,\n",
    "        )\n",
    "\n",
    "        return data_validation_config"
   ]
  },
  {
   "cell_type": "markdown",
   "id": "15b33f01-a0b9-4845-b591-3a4848123051",
   "metadata": {},
   "source": [
    "Data Validation Strategy"
   ]
  },
  {
   "cell_type": "code",
   "execution_count": 15,
   "id": "d8555c94-e865-4a42-bdc6-2241aa74903c",
   "metadata": {},
   "outputs": [],
   "source": [
    "import os\n",
    "from Credit_Card_Fraud_Detection import logger"
   ]
  },
  {
   "cell_type": "code",
   "execution_count": 16,
   "id": "eb9a7958-7043-453f-886a-bc0e95c26fc5",
   "metadata": {},
   "outputs": [],
   "source": [
    "class DataValidationStrategy:\n",
    "    \"\"\"\n",
    "    class for data validation strategy\n",
    "    \"\"\"\n",
    "\n",
    "    def __init__(self, config: DataValidationConfig):\n",
    "        self.config = config\n",
    "        self.validation_report = {}\n",
    "        self.data = pd.read_csv(self.config.unzip_data_dir)\n",
    "\n",
    "    def validate_all_columns(self) -> bool:\n",
    "        \"\"\"\n",
    "        validates all the columns of the data with the schema defined\n",
    "        :return: validation status: True if all columns matches the schema of data\n",
    "        \"\"\"\n",
    "        try:\n",
    "\n",
    "            all_cols = list(self.data.columns)\n",
    "            logger.info(all_cols)\n",
    "\n",
    "            all_schema = self.config.all_schema.keys()\n",
    "            print(\"=========values============\")\n",
    "            print(self.config.all_schema.values())\n",
    "            \n",
    "            for column, expected_type in self.config.all_schema.items():\n",
    "                print(column,expected_type)\n",
    "                # if self.data[column].dtype != expected_type:\n",
    "                    \n",
    "                    # self.validation_status = False\n",
    "                    # self.validation_report.append(f\"Invalid Data Type in {column}\")\n",
    "                \n",
    "            print(\"=========values============\")\n",
    "            \n",
    "            logger.info(all_schema)\n",
    "\n",
    "            all_schema_set = set(all_schema)\n",
    "            column_validation_status = True  # Set by default as True\n",
    "\n",
    "            for col in all_cols:\n",
    "                if col not in all_schema_set:\n",
    "                    validation_status = False\n",
    "                    break  # No need to continue checking if validation fails\n",
    "\n",
    "            self.validation_report[\"column_validation_status\"] = column_validation_status\n",
    "\n",
    "            # # Write the final validation status\n",
    "            # with open(self.config.STATUS_FILE, 'w') as f:\n",
    "            #     f.write(f\"Column Validation status: {column_validation_status}\")\n",
    "\n",
    "            return column_validation_status\n",
    "\n",
    "        except Exception as e:\n",
    "            raise e\n",
    "\n",
    "    def check_missing_values(self) -> bool:\n",
    "        missing_value_status = True # Initially assumed to be no missing values\n",
    "        data = pd.read_csv(self.config.unzip_data_dir)\n",
    "\n",
    "        missing_values = data.isnull().sum()\n",
    "        if missing_values.any():\n",
    "            missing_value_status = False # If the missing values is present\n",
    "\n",
    "        self.validation_report[\"missing_value_status\"] = missing_value_status\n",
    "        \n",
    "        return missing_value_status\n",
    "        \n",
    "            \n",
    "    def check_data_types(self):\n",
    "        \n",
    "        data_type_validation_status = True\n",
    "        for column, expected_type in self.config.all_schema.items():\n",
    "            if self.data[column].dtype != expected_type:\n",
    "                data_type_validation_status = False\n",
    "                break\n",
    "\n",
    "\n",
    "        self.validation_report[\"data_type_validation_status\"] = data_type_validation_status\n",
    "\n",
    "        # Write the final validation status\n",
    "        with open(self.config.STATUS_FILE, 'w') as f:\n",
    "             f.write(f\"validation report: {self.validation_report}\")\n",
    "\n",
    "        return data_type_validation_status\n",
    "\n",
    "\n",
    "\n",
    "         \n",
    "\n",
    "         \n",
    "\n",
    "        "
   ]
  },
  {
   "cell_type": "code",
   "execution_count": 17,
   "id": "15739e48-682c-4faa-a39d-6d3043dfae94",
   "metadata": {},
   "outputs": [],
   "source": [
    "import pandas as pd"
   ]
  },
  {
   "cell_type": "code",
   "execution_count": 18,
   "id": "d3a6ae51-ab91-4423-8085-6f3b41414936",
   "metadata": {},
   "outputs": [
    {
     "name": "stdout",
     "output_type": "stream",
     "text": [
      "[2024-01-02 16:17:58,857: INFO: common: yaml file: config/config.yaml loaded successfully]\n",
      "[2024-01-02 16:17:58,858: INFO: common: yaml file: params.yaml loaded successfully]\n",
      "[2024-01-02 16:17:58,861: INFO: common: yaml file: schema.yaml loaded successfully]\n",
      "[2024-01-02 16:17:58,861: INFO: common: created directory at: artifacts]\n",
      "[2024-01-02 16:17:58,862: INFO: common: created directory at: artifacts/data_validation]\n",
      "[2024-01-02 16:17:59,607: INFO: 3948677739: ['Time', 'V1', 'V2', 'V3', 'V4', 'V5', 'V6', 'V7', 'V8', 'V9', 'V10', 'V11', 'V12', 'V13', 'V14', 'V15', 'V16', 'V17', 'V18', 'V19', 'V20', 'V21', 'V22', 'V23', 'V24', 'V25', 'V26', 'V27', 'V28', 'Amount', 'Class']]\n",
      "=========values============\n",
      "dict_values(['float64', 'float64', 'float64', 'float64', 'float64', 'float64', 'float64', 'float64', 'float64', 'float64', 'float64', 'float64', 'float64', 'float64', 'float64', 'float64', 'float64', 'float64', 'float64', 'float64', 'float64', 'float64', 'float64', 'float64', 'float64', 'float64', 'float64', 'float64', 'float64', 'float64', 'int64'])\n",
      "Time float64\n",
      "V1 float64\n",
      "V2 float64\n",
      "V3 float64\n",
      "V4 float64\n",
      "V5 float64\n",
      "V6 float64\n",
      "V7 float64\n",
      "V8 float64\n",
      "V9 float64\n",
      "V10 float64\n",
      "V11 float64\n",
      "V12 float64\n",
      "V13 float64\n",
      "V14 float64\n",
      "V15 float64\n",
      "V16 float64\n",
      "V17 float64\n",
      "V18 float64\n",
      "V19 float64\n",
      "V20 float64\n",
      "V21 float64\n",
      "V22 float64\n",
      "V23 float64\n",
      "V24 float64\n",
      "V25 float64\n",
      "V26 float64\n",
      "V27 float64\n",
      "V28 float64\n",
      "Amount float64\n",
      "Class int64\n",
      "=========values============\n",
      "[2024-01-02 16:17:59,608: INFO: 3948677739: dict_keys(['Time', 'V1', 'V2', 'V3', 'V4', 'V5', 'V6', 'V7', 'V8', 'V9', 'V10', 'V11', 'V12', 'V13', 'V14', 'V15', 'V16', 'V17', 'V18', 'V19', 'V20', 'V21', 'V22', 'V23', 'V24', 'V25', 'V26', 'V27', 'V28', 'Amount', 'Class'])]\n"
     ]
    }
   ],
   "source": [
    "try:\n",
    "    config = ConfigurationManager()\n",
    "    data_validation_config = config.get_data_validation_config()\n",
    "    data_validation = DataValidationStrategy(config=data_validation_config)\n",
    "    data_validation.validate_all_columns()\n",
    "    data_validation.check_missing_values()\n",
    "    data_validation.check_data_types()\n",
    "except Exception as e:\n",
    "    raise e"
   ]
  },
  {
   "cell_type": "code",
   "execution_count": null,
   "id": "37eafbe4-079a-47e6-a468-705634c4372c",
   "metadata": {},
   "outputs": [],
   "source": []
  },
  {
   "cell_type": "code",
   "execution_count": null,
   "id": "1c445484-0b90-4455-9984-3d547637daab",
   "metadata": {},
   "outputs": [],
   "source": []
  },
  {
   "cell_type": "code",
   "execution_count": null,
   "id": "687183a9-503b-4532-9724-24a6f060648c",
   "metadata": {},
   "outputs": [],
   "source": []
  },
  {
   "cell_type": "code",
   "execution_count": null,
   "id": "18b3f381-f8f4-4b1a-b06f-0d41adef1a84",
   "metadata": {},
   "outputs": [],
   "source": []
  }
 ],
 "metadata": {
  "kernelspec": {
   "display_name": "Python 3 (ipykernel)",
   "language": "python",
   "name": "python3"
  },
  "language_info": {
   "codemirror_mode": {
    "name": "ipython",
    "version": 3
   },
   "file_extension": ".py",
   "mimetype": "text/x-python",
   "name": "python",
   "nbconvert_exporter": "python",
   "pygments_lexer": "ipython3",
   "version": "3.11.4"
  }
 },
 "nbformat": 4,
 "nbformat_minor": 5
}
