{
 "cells": [
  {
   "cell_type": "code",
   "execution_count": 1,
   "id": "71eb15a3-ce85-4789-827f-ed1e63cde79d",
   "metadata": {},
   "outputs": [],
   "source": [
    "import os"
   ]
  },
  {
   "cell_type": "code",
   "execution_count": 2,
   "id": "93568bd2-119f-447a-8767-195c7c72a2ab",
   "metadata": {},
   "outputs": [
    {
     "data": {
      "text/plain": [
       "'/Users/rupeshyadav/Documents/MLFLOW/End-To-End-MLOPs-Credit_Card_Fraud_Detection/research'"
      ]
     },
     "execution_count": 2,
     "metadata": {},
     "output_type": "execute_result"
    }
   ],
   "source": [
    "%pwd"
   ]
  },
  {
   "cell_type": "code",
   "execution_count": 3,
   "id": "a2dca553-8210-44cc-b9e1-9852c0f57912",
   "metadata": {},
   "outputs": [],
   "source": [
    "os.chdir(\"../\")"
   ]
  },
  {
   "cell_type": "code",
   "execution_count": 4,
   "id": "4e9cca6c-4808-4ff0-9781-6b91157b3169",
   "metadata": {},
   "outputs": [
    {
     "data": {
      "text/plain": [
       "'/Users/rupeshyadav/Documents/MLFLOW/End-To-End-MLOPs-Credit_Card_Fraud_Detection'"
      ]
     },
     "execution_count": 4,
     "metadata": {},
     "output_type": "execute_result"
    }
   ],
   "source": [
    "%pwd"
   ]
  },
  {
   "cell_type": "markdown",
   "id": "8834cd30-d6a0-4fd4-b54b-1fee5fb4ebe9",
   "metadata": {},
   "source": [
    "Entity Definition"
   ]
  },
  {
   "cell_type": "code",
   "execution_count": 5,
   "id": "439af181-be74-4489-b2eb-652bab50fecb",
   "metadata": {},
   "outputs": [],
   "source": [
    "from dataclasses import dataclass\n",
    "from pathlib import Path\n",
    "\n",
    "\n",
    "@dataclass(frozen=True)\n",
    "class DataValidationConfig:\n",
    "    root_dir: Path\n",
    "    STATUS_FILE: str\n",
    "    unzip_data_dir: Path\n",
    "    all_schema: dict"
   ]
  },
  {
   "cell_type": "markdown",
   "id": "ca723e9d-018a-4b62-89ea-c72b5c315e58",
   "metadata": {},
   "source": [
    "Configuration Manager"
   ]
  },
  {
   "cell_type": "code",
   "execution_count": 7,
   "id": "2c04b6d1-b0eb-4f33-8a0d-be682f6ae51c",
   "metadata": {},
   "outputs": [],
   "source": [
    "from Credit_Card_Fraud_Detection.constants import *\n",
    "from Credit_Card_Fraud_Detection.utils.common import read_yaml, create_directories"
   ]
  },
  {
   "cell_type": "code",
   "execution_count": 8,
   "id": "6d5d07db-8f41-46a3-a4c7-21e95f22c8bb",
   "metadata": {},
   "outputs": [],
   "source": [
    "class ConfigurationManager:\n",
    "    def __init__(\n",
    "        self,\n",
    "        config_filepath = CONFIG_FILE_PATH,\n",
    "        params_filepath = PARAMS_FILE_PATH,\n",
    "        schema_filepath = SCHEMA_FILE_PATH):\n",
    "\n",
    "        self.config = read_yaml(config_filepath)\n",
    "        self.params = read_yaml(params_filepath)\n",
    "        self.schema = read_yaml(schema_filepath)\n",
    "\n",
    "        create_directories([self.config.artifacts_root])\n",
    "\n",
    "\n",
    "    \n",
    "    def get_data_validation_config(self) -> DataValidationConfig:\n",
    "        config = self.config.data_validation\n",
    "        schema = self.schema.COLUMNS\n",
    "\n",
    "        create_directories([config.root_dir])\n",
    "\n",
    "        data_validation_config = DataValidationConfig(\n",
    "            root_dir=config.root_dir,\n",
    "            STATUS_FILE=config.STATUS_FILE,\n",
    "            unzip_data_dir = config.unzip_data_dir,\n",
    "            all_schema=schema,\n",
    "        )\n",
    "\n",
    "        return data_validation_config"
   ]
  },
  {
   "cell_type": "markdown",
   "id": "15b33f01-a0b9-4845-b591-3a4848123051",
   "metadata": {},
   "source": [
    "Data Validation Strategy"
   ]
  },
  {
   "cell_type": "code",
   "execution_count": 10,
   "id": "d8555c94-e865-4a42-bdc6-2241aa74903c",
   "metadata": {},
   "outputs": [],
   "source": [
    "import os\n",
    "from Credit_Card_Fraud_Detection import logger"
   ]
  },
  {
   "cell_type": "code",
   "execution_count": 53,
   "id": "eb9a7958-7043-453f-886a-bc0e95c26fc5",
   "metadata": {},
   "outputs": [],
   "source": [
    "class DataValiadtionStrategy:\n",
    "    def __init__(self, config: DataValidationConfig):\n",
    "        self.config = config\n",
    "\n",
    "\n",
    "    def validate_all_columns(self)-> bool:\n",
    "        try:\n",
    "            validation_status = None\n",
    "\n",
    "            data = pd.read_csv(self.config.unzip_data_dir)\n",
    "            all_cols = list(data.columns)\n",
    "\n",
    "            logger.info(all_cols)\n",
    "\n",
    "            all_schema = self.config.all_schema.keys()\n",
    "\n",
    "            logger.info(all_schema)\n",
    "\n",
    "            \n",
    "            all_schema_set = set(all_schema)\n",
    "            validation_status = True # Set by default as True\n",
    "            for col in all_cols:\n",
    "                if col not in all_schema_set:\n",
    "                    validation_status = False\n",
    "                    break  # No need to continue checking if validation fails\n",
    "\n",
    "            # Write the final validation status\n",
    "            with open(self.config.STATUS_FILE, 'w') as f:\n",
    "                f.write(f\"Validation status: {validation_status}\")\n",
    "\n",
    "            return validation_status\n",
    "        \n",
    "        except Exception as e:\n",
    "            raise e\n",
    "\n"
   ]
  },
  {
   "cell_type": "code",
   "execution_count": 54,
   "id": "15739e48-682c-4faa-a39d-6d3043dfae94",
   "metadata": {},
   "outputs": [],
   "source": [
    "import pandas as pd"
   ]
  },
  {
   "cell_type": "code",
   "execution_count": 55,
   "id": "d3a6ae51-ab91-4423-8085-6f3b41414936",
   "metadata": {},
   "outputs": [
    {
     "name": "stdout",
     "output_type": "stream",
     "text": [
      "[2024-01-02 05:51:04,291: INFO: common: yaml file: config/config.yaml loaded successfully]\n",
      "[2024-01-02 05:51:04,293: INFO: common: yaml file: params.yaml loaded successfully]\n",
      "[2024-01-02 05:51:04,297: INFO: common: yaml file: schema.yaml loaded successfully]\n",
      "[2024-01-02 05:51:04,298: INFO: common: created directory at: artifacts]\n",
      "[2024-01-02 05:51:04,299: INFO: common: created directory at: artifacts/data_validation]\n",
      "[2024-01-02 05:51:05,090: INFO: 1708381967: ['Time', 'V1', 'V2', 'V3', 'V4', 'V5', 'V6', 'V7', 'V8', 'V9', 'V10', 'V11', 'V12', 'V13', 'V14', 'V15', 'V16', 'V17', 'V18', 'V19', 'V20', 'V21', 'V22', 'V23', 'V24', 'V25', 'V26', 'V27', 'V28', 'Amount', 'Class']]\n",
      "[2024-01-02 05:51:05,090: INFO: 1708381967: dict_keys(['Time', 'V1', 'V2', 'V3', 'V4', 'V5', 'V6', 'V7', 'V8', 'V9', 'V10', 'V11', 'V12', 'V13', 'V14', 'V15', 'V16', 'V17', 'V18', 'V19', 'V20', 'V21', 'V22', 'V23', 'V24', 'V25', 'V26', 'V27', 'V28', 'Amount', 'Class'])]\n"
     ]
    }
   ],
   "source": [
    "try:\n",
    "    config = ConfigurationManager()\n",
    "    data_validation_config = config.get_data_validation_config()\n",
    "    data_validation = DataValiadtionStrategy(config=data_validation_config)\n",
    "    data_validation.validate_all_columns()\n",
    "except Exception as e:\n",
    "    raise e"
   ]
  },
  {
   "cell_type": "code",
   "execution_count": null,
   "id": "37eafbe4-079a-47e6-a468-705634c4372c",
   "metadata": {},
   "outputs": [],
   "source": []
  },
  {
   "cell_type": "code",
   "execution_count": null,
   "id": "19291228-383d-4cf6-9d95-411b314b84fd",
   "metadata": {},
   "outputs": [],
   "source": []
  }
 ],
 "metadata": {
  "kernelspec": {
   "display_name": "Python 3 (ipykernel)",
   "language": "python",
   "name": "python3"
  },
  "language_info": {
   "codemirror_mode": {
    "name": "ipython",
    "version": 3
   },
   "file_extension": ".py",
   "mimetype": "text/x-python",
   "name": "python",
   "nbconvert_exporter": "python",
   "pygments_lexer": "ipython3",
   "version": "3.11.4"
  }
 },
 "nbformat": 4,
 "nbformat_minor": 5
}
