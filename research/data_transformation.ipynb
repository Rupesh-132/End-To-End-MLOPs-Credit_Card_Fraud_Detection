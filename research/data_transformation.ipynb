{
 "cells": [
  {
   "cell_type": "code",
   "execution_count": 1,
   "id": "c7e6e499-56e6-4a8c-b5f6-6fd5b301983f",
   "metadata": {},
   "outputs": [],
   "source": [
    "import os"
   ]
  },
  {
   "cell_type": "code",
   "execution_count": 2,
   "id": "435187ee-ba82-40bd-adf0-7bcb8f908289",
   "metadata": {},
   "outputs": [
    {
     "data": {
      "text/plain": [
       "'/Users/rupeshyadav/Documents/MLFLOW/End-To-End-MLOPs-Credit_Card_Fraud_Detection/research'"
      ]
     },
     "execution_count": 2,
     "metadata": {},
     "output_type": "execute_result"
    }
   ],
   "source": [
    "%pwd"
   ]
  },
  {
   "cell_type": "code",
   "execution_count": 3,
   "id": "0ea102a7-0d3f-450c-b14c-b87f8b221fd9",
   "metadata": {},
   "outputs": [],
   "source": [
    "os.chdir(\"../\")"
   ]
  },
  {
   "cell_type": "code",
   "execution_count": 4,
   "id": "ea120195-038f-4633-8fe3-402d164fe439",
   "metadata": {},
   "outputs": [
    {
     "data": {
      "text/plain": [
       "'/Users/rupeshyadav/Documents/MLFLOW/End-To-End-MLOPs-Credit_Card_Fraud_Detection'"
      ]
     },
     "execution_count": 4,
     "metadata": {},
     "output_type": "execute_result"
    }
   ],
   "source": [
    "%pwd"
   ]
  },
  {
   "cell_type": "markdown",
   "id": "5bfa748a-1e32-408a-b057-f085740c0533",
   "metadata": {},
   "source": [
    "Entity Definition\n"
   ]
  },
  {
   "cell_type": "code",
   "execution_count": 5,
   "id": "fe7f5345-2fcc-4442-a372-a6033191060f",
   "metadata": {},
   "outputs": [],
   "source": [
    "from dataclasses import dataclass\n",
    "from pathlib import Path\n",
    "\n",
    "\n",
    "@dataclass(frozen=True)\n",
    "class DataTransformationConfig:\n",
    "    root_dir: Path\n",
    "    data_path: Path"
   ]
  },
  {
   "cell_type": "code",
   "execution_count": 6,
   "id": "a26f58f7-775c-4f34-b9a6-c9bcd3da51ea",
   "metadata": {},
   "outputs": [],
   "source": [
    "from Credit_Card_Fraud_Detection.constants import *\n",
    "from Credit_Card_Fraud_Detection.utils.common import read_yaml, create_directories"
   ]
  },
  {
   "cell_type": "markdown",
   "id": "d48d9caa-dbdf-4ad6-a937-ef516b37baa6",
   "metadata": {},
   "source": [
    "Configuration Manager"
   ]
  },
  {
   "cell_type": "code",
   "execution_count": 7,
   "id": "42748051-4b19-43a3-a038-eb8788bb0627",
   "metadata": {},
   "outputs": [],
   "source": [
    "class ConfigurationManager:\n",
    "    def __init__(\n",
    "        self,\n",
    "        config_filepath = CONFIG_FILE_PATH,\n",
    "        params_filepath = PARAMS_FILE_PATH,\n",
    "        schema_filepath = SCHEMA_FILE_PATH):\n",
    "\n",
    "        self.config = read_yaml(config_filepath)\n",
    "        self.params = read_yaml(params_filepath)\n",
    "        self.schema = read_yaml(schema_filepath)\n",
    "\n",
    "        create_directories([self.config.artifacts_root])\n",
    "\n",
    "\n",
    "    \n",
    "    def get_data_transformation_config(self) -> DataTransformationConfig:\n",
    "        config = self.config.data_transformation\n",
    "\n",
    "        create_directories([config.root_dir])\n",
    "\n",
    "        data_transformation_config = DataTransformationConfig(\n",
    "            root_dir=config.root_dir,\n",
    "            data_path=config.data_path,\n",
    "        )\n",
    "\n",
    "        return data_transformation_config"
   ]
  },
  {
   "cell_type": "code",
   "execution_count": 9,
   "id": "f6efa72f-368e-4530-bbe8-62943ad75da6",
   "metadata": {},
   "outputs": [],
   "source": [
    "import os\n",
    "from Credit_Card_Fraud_Detection import logger\n",
    "from sklearn.model_selection import train_test_split\n",
    "import pandas as pd"
   ]
  },
  {
   "cell_type": "code",
   "execution_count": 11,
   "id": "e81652f9-c216-45dc-98be-ee30cd1c6634",
   "metadata": {},
   "outputs": [],
   "source": [
    "class DataTransformationStrategy:\n",
    "    def __init__(self, config: DataTransformationConfig):\n",
    "        self.config = config\n",
    "\n",
    "    \n",
    "    #All the EDA steps can be added here\n",
    "\n",
    "    # I am only adding train_test_spliting because this data is already cleaned up\n",
    "\n",
    "\n",
    "    def train_test_spliting(self):\n",
    "        data = pd.read_csv(self.config.data_path)\n",
    "\n",
    "        # Split the data into training and test sets. (0.8, 0.2) split.\n",
    "        train, test = train_test_split(data,test_size = 0.2,random_state = 30)\n",
    "\n",
    "        train.to_csv(os.path.join(self.config.root_dir, \"train.csv\"),index = False)\n",
    "        test.to_csv(os.path.join(self.config.root_dir, \"test.csv\"),index = False)\n",
    "\n",
    "        logger.info(\"Splited data into training and test sets\")\n",
    "        logger.info(train.shape)\n",
    "        logger.info(test.shape)\n",
    "\n",
    "        print(train.shape)\n",
    "        print(test.shape)\n",
    "        "
   ]
  },
  {
   "cell_type": "code",
   "execution_count": 12,
   "id": "565ad7f7-79b4-424f-8fbe-768748e5bb76",
   "metadata": {},
   "outputs": [
    {
     "name": "stdout",
     "output_type": "stream",
     "text": [
      "[2024-01-03 18:47:59,272: INFO: common: yaml file: config/config.yaml loaded successfully]\n",
      "[2024-01-03 18:47:59,285: INFO: common: yaml file: params.yaml loaded successfully]\n",
      "[2024-01-03 18:47:59,293: INFO: common: yaml file: schema.yaml loaded successfully]\n",
      "[2024-01-03 18:47:59,294: INFO: common: created directory at: artifacts]\n",
      "[2024-01-03 18:47:59,295: INFO: common: created directory at: artifacts/data_transformation]\n",
      "[2024-01-03 18:48:04,982: INFO: 1152170597: Splited data into training and test sets]\n",
      "[2024-01-03 18:48:04,985: INFO: 1152170597: (227845, 31)]\n",
      "[2024-01-03 18:48:04,985: INFO: 1152170597: (56962, 31)]\n",
      "(227845, 31)\n",
      "(56962, 31)\n"
     ]
    }
   ],
   "source": [
    "try:\n",
    "    config = ConfigurationManager()\n",
    "    data_transformation_config = config.get_data_transformation_config()\n",
    "    data_transformation = DataTransformationStrategy(config=data_transformation_config)\n",
    "    data_transformation.train_test_spliting()\n",
    "except Exception as e:\n",
    "    raise e"
   ]
  },
  {
   "cell_type": "code",
   "execution_count": null,
   "id": "a2b4942b-7c00-4b42-a2ad-f526e1f6a8cb",
   "metadata": {},
   "outputs": [],
   "source": []
  }
 ],
 "metadata": {
  "kernelspec": {
   "display_name": "Python 3 (ipykernel)",
   "language": "python",
   "name": "python3"
  },
  "language_info": {
   "codemirror_mode": {
    "name": "ipython",
    "version": 3
   },
   "file_extension": ".py",
   "mimetype": "text/x-python",
   "name": "python",
   "nbconvert_exporter": "python",
   "pygments_lexer": "ipython3",
   "version": "3.11.4"
  }
 },
 "nbformat": 4,
 "nbformat_minor": 5
}
